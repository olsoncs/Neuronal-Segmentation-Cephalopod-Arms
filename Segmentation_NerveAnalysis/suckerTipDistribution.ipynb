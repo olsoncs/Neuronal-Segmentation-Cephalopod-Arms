{
 "cells": [
  {
   "cell_type": "code",
   "execution_count": 1,
   "id": "0a2efb66-7040-4445-9731-f1b60b7796be",
   "metadata": {},
   "outputs": [
    {
     "name": "stdout",
     "output_type": "stream",
     "text": [
      "loaded\n"
     ]
    }
   ],
   "source": [
    "## Sucker tip distribution \n",
    "# Examines the distribution of nerve tips around the sucker. Nerves are tagged as originating from the internal ANC (InA) or external ANC (ExA).\n",
    "# Cassady S. Olson \n",
    "\n",
    "import os\n",
    "import sys\n",
    "import imagej\n",
    "import numpy as np\n",
    "\n",
    "import matplotlib.pyplot as plt\n",
    "from nerveAnalysisFunctions import getFiles, unitVector, mag2d, cent_pnt, translate\n",
    "\n",
    "ij = imagej.init(['sc.fiji:fiji', 'org.morphonets:SNT'], mode = \"headless\")\n",
    "\n",
    "from scyjava import jimport \n",
    "PointInImage = jimport('sc.fiji.snt.util.PointInImage')\n",
    "Tree = jimport('sc.fiji.snt.Tree')\n",
    "TreeStatistics = jimport('sc.fiji.snt.analysis.TreeStatistics')\n",
    "\n",
    "\n",
    "print(\"loaded\")"
   ]
  },
  {
   "cell_type": "code",
   "execution_count": 2,
   "id": "7c32074e-0467-4b59-93f5-00932076705c",
   "metadata": {},
   "outputs": [],
   "source": [
    "#Set Data Path \n",
    "mainPath = r\"/Users/ragsdalelab/Documents/Segmentation_NerveAnalysis/data/Sucker\"\n",
    "subFolders = [r\"/AT_Tran_ISOral_2\", r\"/AT_Tran_ESOral_2\"]\n"
   ]
  },
  {
   "cell_type": "code",
   "execution_count": 3,
   "id": "be44332e-b5ac-4cec-9d64-ac7239b32280",
   "metadata": {},
   "outputs": [],
   "source": [
    "# Get tips for each nerve and tag \n",
    "numFolders = len(subFolders)\n",
    "root = []\n",
    "allTips = []\n",
    "label = []\n",
    "\n",
    "for folder in range(numFolders):\n",
    "    fileNames = getFiles(mainPath + subFolders[folder])\n",
    "    numFiles = len(fileNames)\n",
    "    thisLabel = folder * np.ones(numFiles)\n",
    "    label = np.append(label, thisLabel)\n",
    "    filePath = mainPath + subFolders[folder] + r'/'\n",
    "    for file in range(numFiles): \n",
    "        #load tree \n",
    "        thisFile = filePath + fileNames[file]\n",
    "        tree = Tree(thisFile)\n",
    "\n",
    "        #Get root\n",
    "        thisRoot = tree.getRoot()\n",
    "        root_list = []\n",
    "        root_list.append([thisRoot.x, thisRoot.y, thisRoot.z])\n",
    "        root_list = np.asarray(root_list)\n",
    "\n",
    "      \n",
    "        # Get Tip\n",
    "        tree_stats = TreeStatistics(tree)\n",
    "        tips = tree_stats.getTips()\n",
    "    \n",
    "        tips_iterator = tips.iterator()\n",
    "        tips_list = []\n",
    "        while tips_iterator.hasNext():\n",
    "            t = tips_iterator.next()\n",
    "            tips_list.append([t.x, t.y, t.z])\n",
    "    \n",
    "        tips_list = np.asarray(tips_list)\n",
    "\n",
    "        \n",
    "        root.append(root_list)\n",
    "        allTips.append(tips_list)\n",
    "\n"
   ]
  },
  {
   "cell_type": "code",
   "execution_count": 4,
   "id": "8d778dbb-00fa-4217-85f6-2d5d67d0d5cc",
   "metadata": {},
   "outputs": [],
   "source": [
    "# Concatenate InA and ExA nerves into one array \n",
    "\n",
    "allTipsNP = np.concatenate( allTips, axis=0 )\n",
    "allRoots = np.concatenate(root, axis = 0)\n",
    "\n",
    "newLabel = []\n",
    "numTrees = len(root)\n",
    "for y in range(numTrees):\n",
    "    thisTip = allTips[y]\n",
    "    thisLabel = label[y]\n",
    "    newLabel = np.append(newLabel, thisLabel*np.ones([1, len(thisTip)]))"
   ]
  },
  {
   "cell_type": "code",
   "execution_count": 5,
   "id": "b840ff27-af45-49cb-b7ed-b1f8d7e815cc",
   "metadata": {},
   "outputs": [],
   "source": [
    "# Set the center of the tips as the origin\n",
    "center = cent_pnt(allTipsNP)\n",
    "transTips = translate(allTipsNP, center)\n",
    "collect = np.zeros([len(transTips), 2])\n",
    "collect[:,0] = transTips[:,0]\n",
    "collect[:,1] = transTips[:,2]\n",
    "\n",
    "# Normalize tips\n",
    "normTips = unitVector(collect, [])\n",
    "normTips[:,0] = -1*normTips[:,0]\n"
   ]
  },
  {
   "cell_type": "code",
   "execution_count": 6,
   "id": "cd9e1593-f2a9-46e6-b814-4164b8a94559",
   "metadata": {},
   "outputs": [
    {
     "data": {
      "text/plain": [
       "<matplotlib.legend.Legend at 0x7fb101980b20>"
      ]
     },
     "execution_count": 6,
     "metadata": {},
     "output_type": "execute_result"
    },
    {
     "data": {
      "image/png": "[encoded data removed]",
      "text/plain": [
       "<Figure size 640x480 with 1 Axes>"
      ]
     },
     "metadata": {},
     "output_type": "display_data"
    }
   ],
   "source": [
    "# Generate plot \n",
    "\n",
    "# Set colors for InA and ExA\n",
    "cmap = ['blue', 'orange']\n",
    "b = newLabel == 0\n",
    "c = newLabel == 1\n",
    "\n",
    "# Seperate tips by their label\n",
    "InSTips = normTips[b,:]\n",
    "ExTips = normTips[c,:]\n",
    "\n",
    "# Plot\n",
    "fig, ax = plt.subplots()\n",
    "ax.scatter(ExTips[:,0], ExTips[:,1], c=cmap[0])\n",
    "ax.scatter(InSTips[:,0], InSTips[:,1], c=cmap[1])\n",
    "\n",
    "# Set plot parameters\n",
    "ax.set_yticks(np.linspace(-1,1, 7))\n",
    "ax.set_yticklabels(['Proximal', '','','','','','Distal'])\n",
    "ax.set_xticks([-1,0,1])\n",
    "ax.set_xticklabels(['ExS','', 'InS'])      \n",
    "ax.set_aspect('equal')\n",
    "ax.spines['top'].set_visible(False)\n",
    "ax.spines['right'].set_visible(False)\n",
    "plt.legend(['ExA', 'InA'], loc=\"upper left\") \n"
   ]
  },
  {
   "cell_type": "code",
   "execution_count": 7,
   "id": "2dd61ba7-a612-4aec-a982-d2abeea7f335",
   "metadata": {},
   "outputs": [
    {
     "name": "stdout",
     "output_type": "stream",
     "text": [
      "InA covers 31.865999735601758% of the sucker whereas ExA covers 68.13400026439824%\n"
     ]
    }
   ],
   "source": [
    "# Determine coverage by InA and ExA\n",
    "\n",
    "# Find the bounds of InA distribution\n",
    "sortTips = np.argsort(InSTips[:,0], axis = 0)\n",
    "sortedTips = np.zeros([len(InSTips), 2])\n",
    "sortedTips = InSTips[sortTips,:]\n",
    "minTip = sortedTips[1,:]\n",
    "maxTip = sortedTips[0,:]\n",
    "\n",
    "# Find angle between bounds\n",
    "x = maxTip\n",
    "y = minTip\n",
    "magX = mag2d(x)\n",
    "magy = mag2d(y)\n",
    "dotXY = np.dot(x, y)\n",
    "dotMag = (dotXY)/(magX*magy)\n",
    "angle = np.arccos(dotMag)\n",
    "angDeg = angle * (180/np.pi)\n",
    "\n",
    "# Convert to percentage \n",
    "angPer = angDeg/360 * 100\n",
    "\n",
    "print('InA covers ' + str(angPer) + '% of the sucker whereas ExA covers ' + str(100- angPer) + '%')\n"
   ]
  },
  {
   "cell_type": "code",
   "execution_count": 8,
   "id": "5c292fb2-7629-4195-9c81-7cd293d07e3a",
   "metadata": {},
   "outputs": [
    {
     "data": {
      "image/png": "[encoded data removed]",
      "text/plain": [
       "<Figure size 640x480 with 1 Axes>"
      ]
     },
     "metadata": {},
     "output_type": "display_data"
    }
   ],
   "source": [
    "# Verify boundaries set above\n",
    "fig, ax = plt.subplots()\n",
    "ax.scatter(ExTips[:,0], ExTips[:,1], c=cmap[0])\n",
    "ax.scatter(InSTips[:,0], InSTips[:,1], c=cmap[1])\n",
    "ax.scatter(maxTip[0], maxTip[1], c = 'k', alpha = 0.45)\n",
    "ax.scatter(minTip[0], minTip[1], c = 'k', alpha = 0.45)\n",
    "ax.set_aspect(1)\n"
   ]
  }
 ],
 "metadata": {
  "kernelspec": {
   "display_name": "Python 3 (ipykernel)",
   "language": "python",
   "name": "python3"
  },
  "language_info": {
   "codemirror_mode": {
    "name": "ipython",
    "version": 3
   },
   "file_extension": ".py",
   "mimetype": "text/x-python",
   "name": "python",
   "nbconvert_exporter": "python",
   "pygments_lexer": "ipython3",
   "version": "3.8.17"
  }
 },
 "nbformat": 4,
 "nbformat_minor": 5
}
